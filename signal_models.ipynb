{
 "cells": [
  {
   "cell_type": "markdown",
   "metadata": {},
   "source": [
    "# Signal models\n",
    "Here we are going to have a look at different signal models available in MRpro."
   ]
  },
  {
   "cell_type": "markdown",
   "metadata": {},
   "source": [
    "## Overview\n",
    "\n",
    "In this notebook we are going to explore the signal models which are implemented in MRpro.\n",
    "\n",
    "Run this notebook in Google colab: \n",
    "\n",
    "<a target=\"_blank\" href=\"https://colab.research.google.com/github/PTB-MR/mrpro_utrecht_workshop_2024/blob/main/signal_models.ipynb\">\n",
    "  <img src=\"https://colab.research.google.com/assets/colab-badge.svg\" alt=\"Open In Colab\"/>\n",
    "</a>"
   ]
  },
  {
   "cell_type": "markdown",
   "metadata": {},
   "source": [
    "## Install MRpro"
   ]
  },
  {
   "cell_type": "code",
   "execution_count": null,
   "metadata": {},
   "outputs": [],
   "source": [
    "# Install MRpro from a separate branch including the EPG signal model\n",
    "!pip install git+https://github.com/PTB-MR/mrpro.git@epg#egg=mrpro[notebook]\n",
    "import mrpro"
   ]
  }
 ],
 "metadata": {
  "kernelspec": {
   "display_name": "Python 3",
   "language": "python",
   "name": "python3"
  },
  "language_info": {
   "codemirror_mode": {
    "name": "ipython",
    "version": 3
   },
   "file_extension": ".py",
   "mimetype": "text/x-python",
   "name": "python",
   "nbconvert_exporter": "python",
   "pygments_lexer": "ipython3",
   "version": "3.11.8"
  }
 },
 "nbformat": 4,
 "nbformat_minor": 2
}
