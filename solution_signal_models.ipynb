{
 "cells": [
  {
   "cell_type": "markdown",
   "metadata": {},
   "source": [
    "# Signal models\n",
    "Here we are going to have a look at different signal models available in MRpro."
   ]
  },
  {
   "cell_type": "markdown",
   "metadata": {},
   "source": [
    "## Overview\n",
    "\n",
    "In this notebook we are going to explore the signal models which are implemented in MRpro.\n",
    "\n",
    "Run this notebook in Google colab: \n",
    "\n",
    "<a target=\"_blank\" href=\"https://colab.research.google.com/github/PTB-MR/mrpro_utrecht_workshop_2024/blob/main/solution_signal_models.ipynb\">\n",
    "  <img src=\"https://colab.research.google.com/assets/colab-badge.svg\" alt=\"Open In Colab\"/>\n",
    "</a>"
   ]
  },
  {
   "cell_type": "markdown",
   "metadata": {},
   "source": [
    "## Install MRpro"
   ]
  },
  {
   "cell_type": "code",
   "execution_count": null,
   "metadata": {},
   "outputs": [],
   "source": [
    "import warnings\n",
    "# Suppress all warnings\n",
    "warnings.filterwarnings(\"ignore\")"
   ]
  },
  {
   "cell_type": "code",
   "execution_count": null,
   "metadata": {},
   "outputs": [],
   "source": [
    "# Install MRpro from a separate branch including the EPG signal model\n",
    "!pip install git+https://github.com/PTB-MR/mrpro.git@epg#egg=mrpro[notebook]\n",
    "import mrpro"
   ]
  },
  {
   "cell_type": "markdown",
   "metadata": {},
   "source": [
    "## Inversion-recovery model\n",
    "\n",
    "Let's start with something very simple: a mono-exponential signal recovery after an inversion pulse. "
   ]
  },
  {
   "cell_type": "code",
   "execution_count": null,
   "metadata": {},
   "outputs": [],
   "source": [
    "# Define the time points after the inversion pulse\n",
    "import torch\n",
    "ti = torch.arange(0.1, 10, 0.1)\n",
    "inversion_recovery_model = mrpro.operators.models.InversionRecovery(ti)\n"
   ]
  },
  {
   "cell_type": "markdown",
   "metadata": {},
   "source": [
    "Now we can evaluate it for a couple of $T_1$ times."
   ]
  },
  {
   "cell_type": "code",
   "execution_count": null,
   "metadata": {},
   "outputs": [],
   "source": [
    "inversion_recovery_signal = inversion_recovery_model.forward(m0=torch.ones(4), t1=torch.as_tensor([1.0, 2.0, 4.0, 8.0]))[0]\n",
    "\n",
    "import matplotlib.pyplot as plt\n",
    "for i in range(4):\n",
    "    plt.plot(ti, inversion_recovery_signal[:,i]);"
   ]
  },
  {
   "cell_type": "markdown",
   "metadata": {},
   "source": [
    "Often when we want to use this model to fit reconstructed images in Dicom format which correspond to the absolute values of the obtained signals. In MRpro we can simply combine the signal model with a magnitude-operator to create this \"new\" signal model."
   ]
  },
  {
   "cell_type": "code",
   "execution_count": null,
   "metadata": {},
   "outputs": [],
   "source": [
    "magn_inversion_recovery_model = mrpro.operators.MagnitudeOp() @ mrpro.operators.models.InversionRecovery(ti)\n",
    "magn_inversion_recovery_signal = magn_inversion_recovery_model.forward(torch.ones(4), torch.as_tensor([1.0, 2.0, 4.0, 8.0]))[0]\n",
    "\n",
    "import matplotlib.pyplot as plt\n",
    "fig, ax = plt.subplots(1,2, squeeze=False)\n",
    "for i in range(4):\n",
    "    ax[0,0].plot(ti, inversion_recovery_signal[:,i])\n",
    "    ax[0,1].plot(ti, magn_inversion_recovery_signal[:,i]);"
   ]
  },
  {
   "cell_type": "markdown",
   "metadata": {},
   "source": [
    "## Simply monoexponential signal model\n",
    "\n",
    "Let's try another simple signal model: a monoexponential decay of the signal. This signal model can be e.g. used to describe the $T_2$ decay during a turbo-spin echo acquisition. "
   ]
  },
  {
   "cell_type": "code",
   "execution_count": null,
   "metadata": {},
   "outputs": [],
   "source": [
    "time_points_during_decay = torch.arange(0,0.5,0.01)\n",
    "monoexp_model = mrpro.operators.models.MonoExponentialDecay(time_points_during_decay)"
   ]
  },
  {
   "cell_type": "markdown",
   "metadata": {},
   "source": [
    "Now we can calculate the signal. Here we will only use a single relaxation time but of course multi-dimensional tensors can be provided to the model."
   ]
  },
  {
   "cell_type": "code",
   "execution_count": null,
   "metadata": {},
   "outputs": [],
   "source": [
    "monoexp_signal = monoexp_model.forward(m0=torch.ones(1), decay_constant=torch.ones(1)*0.1)[0]\n",
    "\n",
    "plt.figure()\n",
    "plt.plot(time_points_during_decay, monoexp_signal);"
   ]
  },
  {
   "cell_type": "markdown",
   "metadata": {},
   "source": [
    "## Extended phase graphs\n",
    "\n",
    "We also have more advanced models in MRpro, e.g. using the extended phase graph approach. We have a TSE signal model which is decribed by the flip angle and phase of the refocusing pulses, echo times and repetition time between two TSE trains. "
   ]
  },
  {
   "cell_type": "markdown",
   "metadata": {},
   "source": [
    "We simulate a TSE train with 20 echoes and an echo time of 10ms. We can either use tensors to define these parameters or single values. If e.g. the flip angle of the refocusing pulse is a tensor of shape (20,) and the phase of the refocusing pulses and the echo time are floats or of shape (1,) then the model assumes that the phase and the echo time are the same for all 20 refocusing pulses.\n",
    "\n",
    "Keep in mind that we use SI units in MRpro so the angles have to be provided in rad."
   ]
  },
  {
   "cell_type": "code",
   "execution_count": null,
   "metadata": {},
   "outputs": [],
   "source": [
    "tse_epg_model = mrpro.operators.models.EpgTse(torch.as_tensor([torch.pi,]*20), 0, 0.01)\n",
    "tse_epg_signal = tse_epg_model.forward(m0=torch.ones(1), t1=torch.ones(1), t2=torch.ones(1)*0.1, b1_scaling_factor=torch.ones(1))[0]\n",
    "\n",
    "# EPG signals are always complex valued so we have to convert it to real-valued signals\n",
    "tse_epg_signal = torch.real(tse_epg_signal)\n",
    "\n",
    "plt.figure()\n",
    "plt.plot(time_points_during_decay, monoexp_signal)\n",
    "plt.plot(torch.arange(0.01, 0.01*21, 0.01), tse_epg_signal, 'r-+');"
   ]
  },
  {
   "cell_type": "markdown",
   "metadata": {},
   "source": [
    "With the extended phase graph approach we have a lot more flexibility than with the mono-exponential decay. We can e.g. also look at signals which are created by refocusing pulses smaller than 180°. "
   ]
  },
  {
   "cell_type": "code",
   "execution_count": null,
   "metadata": {},
   "outputs": [],
   "source": [
    "tse_epg_model = mrpro.operators.models.EpgTse(torch.as_tensor([torch.pi*0.7,]*20), 0, 0.01)\n",
    "tse_epg_signal = tse_epg_model.forward(m0=torch.ones(1), t1=torch.ones(1), t2=torch.ones(1)*0.1, b1_scaling_factor=torch.ones(1))[0]\n",
    "\n",
    "# EPG signals are always complex valued so we have to convert it to real-valued signals\n",
    "tse_epg_signal = torch.real(tse_epg_signal)\n",
    "\n",
    "plt.figure()\n",
    "plt.plot(time_points_during_decay, monoexp_signal)\n",
    "plt.plot(torch.arange(0.01, 0.01*21, 0.01), tse_epg_signal, 'r-+');"
   ]
  }
 ],
 "metadata": {
  "kernelspec": {
   "display_name": "Python 3",
   "language": "python",
   "name": "python3"
  },
  "language_info": {
   "codemirror_mode": {
    "name": "ipython",
    "version": 3
   },
   "file_extension": ".py",
   "mimetype": "text/x-python",
   "name": "python",
   "nbconvert_exporter": "python",
   "pygments_lexer": "ipython3",
   "version": "3.11.8"
  }
 },
 "nbformat": 4,
 "nbformat_minor": 2
}
